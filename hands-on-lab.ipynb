# Welcome to Cymbal Hotels and More

# In this notebook: We will build an Advanced Search Application from scratch
# The Applicaiton will leverage - Palm as a base-model and the gecko-embeddings-model
# In detail - we will explore the following technologies:

########################
# 1 Introduction to RAG 
######################## 

########################
# 2 DocAI Form Parser
########################

########################
# 3 Embeddings Model (via gecko)
########################

########################
# 4 ScaNN
########################

########################
# 5 Building Full Promot with Instructions and Context
########################


########################
# Steps in this Workbook
########################
# 1: Setup / Define Variables / Environment
# 2: Install dependencies
# 3: Enable APIs
# 4: Import dependencies
# 5: Define: Client, Location, Model(s)
# 6: Compute Embedding Values for User Question (based on Embdding Model)
# 7: Test: Question without RAG
# 8: Download additional context from GCS Bucket
# 9: Read-in context as PDF on-page-basis as bytes
# 10: Initiate Form Parser as Processor
# 11: Parsing the PDFs
# 12: Extracting Tables and Text
# 13: Create embeddings of extracted text
# 14: Indexing and normalizing the index
# 15: Building a ScaNN Builder
# 16: Building a ScaNN tree
# 17: Building a Searcher using ScaNN
# 18: Takes a query text string and the number of nearest neighbors to return (k) as input
# 19 Building Final Promot with Instructions and Context

# Make sure version is greater than 1.25.0
import google.cloud.aiplatform as aiplatform
aiplatform.__version__
